{
 "cells": [
  {
   "cell_type": "markdown",
   "id": "a27fc721",
   "metadata": {},
   "source": [
    "### when you want store data multiple values to one variable\n",
    "## we use structure"
   ]
  },
  {
   "cell_type": "code",
   "execution_count": 2,
   "id": "2432301b",
   "metadata": {},
   "outputs": [],
   "source": [
    "fruits = [\"apple\", \"banana\", \"cherry\"] # sequence type\n",
    "colors = (\"red\", \"green\", \"blue\") # sequence type\n",
    "person = {\"name\": \"John\", \"age\": 30} # mapping type"
   ]
  },
  {
   "cell_type": "code",
   "execution_count": 3,
   "id": "b3709a23",
   "metadata": {},
   "outputs": [
    {
     "data": {
      "text/plain": [
       "'John'"
      ]
     },
     "execution_count": 3,
     "metadata": {},
     "output_type": "execute_result"
    }
   ],
   "source": []
  },
  {
   "cell_type": "code",
   "execution_count": null,
   "id": "60ae2c20",
   "metadata": {},
   "outputs": [],
   "source": []
  }
 ],
 "metadata": {
  "kernelspec": {
   "display_name": "base",
   "language": "python",
   "name": "python3"
  },
  "language_info": {
   "codemirror_mode": {
    "name": "ipython",
    "version": 3
   },
   "file_extension": ".py",
   "mimetype": "text/x-python",
   "name": "python",
   "nbconvert_exporter": "python",
   "pygments_lexer": "ipython3",
   "version": "3.12.9"
  }
 },
 "nbformat": 4,
 "nbformat_minor": 5
}

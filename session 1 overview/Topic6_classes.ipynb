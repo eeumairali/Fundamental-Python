{
 "cells": [
  {
   "cell_type": "code",
   "execution_count": 2,
   "id": "6072ace1",
   "metadata": {},
   "outputs": [],
   "source": [
    "class Cat:\n",
    "    def meow(self):\n",
    "        return \"Meow!\"\n",
    "    def purr(self):\n",
    "        return \"Purr...\""
   ]
  },
  {
   "cell_type": "code",
   "execution_count": 3,
   "id": "71117f10",
   "metadata": {},
   "outputs": [],
   "source": [
    "c1 = Cat()\n",
    "c2 = Cat()"
   ]
  },
  {
   "cell_type": "code",
   "execution_count": 4,
   "id": "b607d59d",
   "metadata": {},
   "outputs": [
    {
     "data": {
      "text/plain": [
       "'Meow!'"
      ]
     },
     "execution_count": 4,
     "metadata": {},
     "output_type": "execute_result"
    }
   ],
   "source": [
    "c1.meow()"
   ]
  },
  {
   "cell_type": "code",
   "execution_count": 5,
   "id": "5ad5bd92",
   "metadata": {},
   "outputs": [
    {
     "data": {
      "text/plain": [
       "'Purr...'"
      ]
     },
     "execution_count": 5,
     "metadata": {},
     "output_type": "execute_result"
    }
   ],
   "source": [
    "c1.purr()"
   ]
  },
  {
   "cell_type": "code",
   "execution_count": null,
   "id": "d127a0c9",
   "metadata": {},
   "outputs": [],
   "source": []
  }
 ],
 "metadata": {
  "kernelspec": {
   "display_name": "base",
   "language": "python",
   "name": "python3"
  },
  "language_info": {
   "codemirror_mode": {
    "name": "ipython",
    "version": 3
   },
   "file_extension": ".py",
   "mimetype": "text/x-python",
   "name": "python",
   "nbconvert_exporter": "python",
   "pygments_lexer": "ipython3",
   "version": "3.12.9"
  }
 },
 "nbformat": 4,
 "nbformat_minor": 5
}
